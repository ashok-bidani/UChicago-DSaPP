{
 "cells": [
  {
   "cell_type": "markdown",
   "metadata": {},
   "source": [
    "# DSaPP Analysis by Ashok Bidani Raife"
   ]
  },
  {
   "cell_type": "code",
   "execution_count": 1,
   "metadata": {},
   "outputs": [],
   "source": [
    "import csv\n",
    "import pandas as pd\n",
    "import matplotlib.pyplot as plt"
   ]
  },
  {
   "cell_type": "markdown",
   "metadata": {},
   "source": [
    "## Exploratory Analysis"
   ]
  },
  {
   "cell_type": "markdown",
   "metadata": {},
   "source": [
    "#### First, read in all of the data and take a look at the first few entries to understand the columns and categories"
   ]
  },
  {
   "cell_type": "code",
   "execution_count": 2,
   "metadata": {},
   "outputs": [
    {
     "data": {
      "text/html": [
       "<div>\n",
       "<style scoped>\n",
       "    .dataframe tbody tr th:only-of-type {\n",
       "        vertical-align: middle;\n",
       "    }\n",
       "\n",
       "    .dataframe tbody tr th {\n",
       "        vertical-align: top;\n",
       "    }\n",
       "\n",
       "    .dataframe thead th {\n",
       "        text-align: right;\n",
       "    }\n",
       "</style>\n",
       "<table border=\"1\" class=\"dataframe\">\n",
       "  <thead>\n",
       "    <tr style=\"text-align: right;\">\n",
       "      <th></th>\n",
       "      <th>donationid</th>\n",
       "      <th>projectid</th>\n",
       "      <th>donor_acctid</th>\n",
       "      <th>donor_city</th>\n",
       "      <th>donor_state</th>\n",
       "      <th>donor_zip</th>\n",
       "      <th>is_teacher_acct</th>\n",
       "      <th>donation_timestamp</th>\n",
       "      <th>donation_to_project</th>\n",
       "      <th>donation_optional_support</th>\n",
       "      <th>...</th>\n",
       "      <th>dollar_amount</th>\n",
       "      <th>donation_included_optional_support</th>\n",
       "      <th>payment_method</th>\n",
       "      <th>payment_included_acct_credit</th>\n",
       "      <th>payment_included_campaign_gift_card</th>\n",
       "      <th>payment_included_web_purchased_gift_card</th>\n",
       "      <th>payment_was_promo_matched</th>\n",
       "      <th>via_giving_page</th>\n",
       "      <th>for_honoree</th>\n",
       "      <th>donation_message</th>\n",
       "    </tr>\n",
       "  </thead>\n",
       "  <tbody>\n",
       "    <tr>\n",
       "      <th>0</th>\n",
       "      <td>431d720bc3dfd75ae445a5eaa0b0638d</td>\n",
       "      <td>ffffac55ee02a49d1abc87ba6fc61135</td>\n",
       "      <td>22cbc920c9b5fa08dfb331422f5926b5</td>\n",
       "      <td>Peachtree City</td>\n",
       "      <td>GA</td>\n",
       "      <td>30269.0</td>\n",
       "      <td>f</td>\n",
       "      <td>2011-08-25 14:27:34.807</td>\n",
       "      <td>42.50</td>\n",
       "      <td>7.50</td>\n",
       "      <td>...</td>\n",
       "      <td>10_to_100</td>\n",
       "      <td>t</td>\n",
       "      <td>no_cash_received</td>\n",
       "      <td>f</td>\n",
       "      <td>t</td>\n",
       "      <td>f</td>\n",
       "      <td>f</td>\n",
       "      <td>f</td>\n",
       "      <td>f</td>\n",
       "      <td>I gave to this project because I support the e...</td>\n",
       "    </tr>\n",
       "    <tr>\n",
       "      <th>1</th>\n",
       "      <td>fcfedba1c8a0ba77d280cace80a909f6</td>\n",
       "      <td>ffffac55ee02a49d1abc87ba6fc61135</td>\n",
       "      <td>521f1830a77c9dbbf8119d99c6206a16</td>\n",
       "      <td>NaN</td>\n",
       "      <td>GA</td>\n",
       "      <td>NaN</td>\n",
       "      <td>f</td>\n",
       "      <td>2011-11-04 07:54:21.552</td>\n",
       "      <td>26.83</td>\n",
       "      <td>4.73</td>\n",
       "      <td>...</td>\n",
       "      <td>10_to_100</td>\n",
       "      <td>t</td>\n",
       "      <td>creditcard</td>\n",
       "      <td>f</td>\n",
       "      <td>t</td>\n",
       "      <td>f</td>\n",
       "      <td>f</td>\n",
       "      <td>f</td>\n",
       "      <td>f</td>\n",
       "      <td>I donated because I want to support kids in Ge...</td>\n",
       "    </tr>\n",
       "    <tr>\n",
       "      <th>2</th>\n",
       "      <td>3fa95d29986aa6f401c6719ced3a3ce7</td>\n",
       "      <td>ffffac55ee02a49d1abc87ba6fc61135</td>\n",
       "      <td>1e0a63fc8141c7ba26b8b44ca0871b90</td>\n",
       "      <td>Rockville</td>\n",
       "      <td>MD</td>\n",
       "      <td>20853.0</td>\n",
       "      <td>f</td>\n",
       "      <td>2011-11-02 22:53:53.019</td>\n",
       "      <td>55.35</td>\n",
       "      <td>0.00</td>\n",
       "      <td>...</td>\n",
       "      <td>10_to_100</td>\n",
       "      <td>f</td>\n",
       "      <td>no_cash_received</td>\n",
       "      <td>t</td>\n",
       "      <td>f</td>\n",
       "      <td>f</td>\n",
       "      <td>f</td>\n",
       "      <td>t</td>\n",
       "      <td>f</td>\n",
       "      <td>The Spark's 'pet' projects include those which...</td>\n",
       "    </tr>\n",
       "    <tr>\n",
       "      <th>3</th>\n",
       "      <td>020ad6bd5e88a35741d23b5e08f8b8e8</td>\n",
       "      <td>ffffac55ee02a49d1abc87ba6fc61135</td>\n",
       "      <td>1d4acb508df29d5f1cc6d382969576cb</td>\n",
       "      <td>Salem</td>\n",
       "      <td>IN</td>\n",
       "      <td>47167.0</td>\n",
       "      <td>f</td>\n",
       "      <td>2011-11-03 23:54:01.109</td>\n",
       "      <td>8.50</td>\n",
       "      <td>1.50</td>\n",
       "      <td>...</td>\n",
       "      <td>10_to_100</td>\n",
       "      <td>t</td>\n",
       "      <td>paypal</td>\n",
       "      <td>f</td>\n",
       "      <td>f</td>\n",
       "      <td>f</td>\n",
       "      <td>f</td>\n",
       "      <td>f</td>\n",
       "      <td>f</td>\n",
       "      <td>I gave to this project because Education is im...</td>\n",
       "    </tr>\n",
       "    <tr>\n",
       "      <th>4</th>\n",
       "      <td>4b44b03f304d6425ae94446686f93cd6</td>\n",
       "      <td>ffffac55ee02a49d1abc87ba6fc61135</td>\n",
       "      <td>59c3c3cfcccc53ae855f7eee911c478b</td>\n",
       "      <td>anonymous</td>\n",
       "      <td>NaN</td>\n",
       "      <td>0.0</td>\n",
       "      <td>f</td>\n",
       "      <td>2011-11-02 23:21:00.043</td>\n",
       "      <td>20.00</td>\n",
       "      <td>0.00</td>\n",
       "      <td>...</td>\n",
       "      <td>10_to_100</td>\n",
       "      <td>f</td>\n",
       "      <td>no_cash_received</td>\n",
       "      <td>f</td>\n",
       "      <td>f</td>\n",
       "      <td>t</td>\n",
       "      <td>f</td>\n",
       "      <td>t</td>\n",
       "      <td>f</td>\n",
       "      <td>I lent a paw to help the children in this clas...</td>\n",
       "    </tr>\n",
       "  </tbody>\n",
       "</table>\n",
       "<p>5 rows × 21 columns</p>\n",
       "</div>"
      ],
      "text/plain": [
       "                         donationid                         projectid  \\\n",
       "0  431d720bc3dfd75ae445a5eaa0b0638d  ffffac55ee02a49d1abc87ba6fc61135   \n",
       "1  fcfedba1c8a0ba77d280cace80a909f6  ffffac55ee02a49d1abc87ba6fc61135   \n",
       "2  3fa95d29986aa6f401c6719ced3a3ce7  ffffac55ee02a49d1abc87ba6fc61135   \n",
       "3  020ad6bd5e88a35741d23b5e08f8b8e8  ffffac55ee02a49d1abc87ba6fc61135   \n",
       "4  4b44b03f304d6425ae94446686f93cd6  ffffac55ee02a49d1abc87ba6fc61135   \n",
       "\n",
       "                       donor_acctid      donor_city donor_state  donor_zip  \\\n",
       "0  22cbc920c9b5fa08dfb331422f5926b5  Peachtree City          GA    30269.0   \n",
       "1  521f1830a77c9dbbf8119d99c6206a16             NaN          GA        NaN   \n",
       "2  1e0a63fc8141c7ba26b8b44ca0871b90       Rockville          MD    20853.0   \n",
       "3  1d4acb508df29d5f1cc6d382969576cb           Salem          IN    47167.0   \n",
       "4  59c3c3cfcccc53ae855f7eee911c478b       anonymous         NaN        0.0   \n",
       "\n",
       "  is_teacher_acct       donation_timestamp  donation_to_project  \\\n",
       "0               f  2011-08-25 14:27:34.807                42.50   \n",
       "1               f  2011-11-04 07:54:21.552                26.83   \n",
       "2               f  2011-11-02 22:53:53.019                55.35   \n",
       "3               f  2011-11-03 23:54:01.109                 8.50   \n",
       "4               f  2011-11-02 23:21:00.043                20.00   \n",
       "\n",
       "   donation_optional_support  \\\n",
       "0                       7.50   \n",
       "1                       4.73   \n",
       "2                       0.00   \n",
       "3                       1.50   \n",
       "4                       0.00   \n",
       "\n",
       "                         ...                          dollar_amount  \\\n",
       "0                        ...                              10_to_100   \n",
       "1                        ...                              10_to_100   \n",
       "2                        ...                              10_to_100   \n",
       "3                        ...                              10_to_100   \n",
       "4                        ...                              10_to_100   \n",
       "\n",
       "  donation_included_optional_support    payment_method  \\\n",
       "0                                  t  no_cash_received   \n",
       "1                                  t        creditcard   \n",
       "2                                  f  no_cash_received   \n",
       "3                                  t            paypal   \n",
       "4                                  f  no_cash_received   \n",
       "\n",
       "  payment_included_acct_credit payment_included_campaign_gift_card  \\\n",
       "0                            f                                   t   \n",
       "1                            f                                   t   \n",
       "2                            t                                   f   \n",
       "3                            f                                   f   \n",
       "4                            f                                   f   \n",
       "\n",
       "  payment_included_web_purchased_gift_card payment_was_promo_matched  \\\n",
       "0                                        f                         f   \n",
       "1                                        f                         f   \n",
       "2                                        f                         f   \n",
       "3                                        f                         f   \n",
       "4                                        t                         f   \n",
       "\n",
       "  via_giving_page for_honoree  \\\n",
       "0               f           f   \n",
       "1               f           f   \n",
       "2               t           f   \n",
       "3               f           f   \n",
       "4               t           f   \n",
       "\n",
       "                                    donation_message  \n",
       "0  I gave to this project because I support the e...  \n",
       "1  I donated because I want to support kids in Ge...  \n",
       "2  The Spark's 'pet' projects include those which...  \n",
       "3  I gave to this project because Education is im...  \n",
       "4  I lent a paw to help the children in this clas...  \n",
       "\n",
       "[5 rows x 21 columns]"
      ]
     },
     "execution_count": 2,
     "metadata": {},
     "output_type": "execute_result"
    }
   ],
   "source": [
    "donations_df = pd.read_csv('donations.csv')\n",
    "donations_df.head()"
   ]
  },
  {
   "cell_type": "code",
   "execution_count": 3,
   "metadata": {},
   "outputs": [
    {
     "data": {
      "text/html": [
       "<div>\n",
       "<style scoped>\n",
       "    .dataframe tbody tr th:only-of-type {\n",
       "        vertical-align: middle;\n",
       "    }\n",
       "\n",
       "    .dataframe tbody tr th {\n",
       "        vertical-align: top;\n",
       "    }\n",
       "\n",
       "    .dataframe thead th {\n",
       "        text-align: right;\n",
       "    }\n",
       "</style>\n",
       "<table border=\"1\" class=\"dataframe\">\n",
       "  <thead>\n",
       "    <tr style=\"text-align: right;\">\n",
       "      <th></th>\n",
       "      <th>projectid</th>\n",
       "      <th>is_exciting</th>\n",
       "      <th>at_least_1_teacher_referred_donor</th>\n",
       "      <th>fully_funded</th>\n",
       "      <th>at_least_1_green_donation</th>\n",
       "      <th>great_chat</th>\n",
       "      <th>three_or_more_non_teacher_referred_donors</th>\n",
       "      <th>one_non_teacher_referred_donor_giving_100_plus</th>\n",
       "      <th>donation_from_thoughtful_donor</th>\n",
       "      <th>great_messages_proportion</th>\n",
       "      <th>teacher_referred_count</th>\n",
       "      <th>non_teacher_referred_count</th>\n",
       "    </tr>\n",
       "  </thead>\n",
       "  <tbody>\n",
       "    <tr>\n",
       "      <th>0</th>\n",
       "      <td>ffffc4f85b60efc5b52347df489d0238</td>\n",
       "      <td>f</td>\n",
       "      <td>NaN</td>\n",
       "      <td>f</td>\n",
       "      <td>NaN</td>\n",
       "      <td>f</td>\n",
       "      <td>NaN</td>\n",
       "      <td>NaN</td>\n",
       "      <td>NaN</td>\n",
       "      <td>NaN</td>\n",
       "      <td>NaN</td>\n",
       "      <td>NaN</td>\n",
       "    </tr>\n",
       "    <tr>\n",
       "      <th>1</th>\n",
       "      <td>ffffac55ee02a49d1abc87ba6fc61135</td>\n",
       "      <td>f</td>\n",
       "      <td>f</td>\n",
       "      <td>t</td>\n",
       "      <td>t</td>\n",
       "      <td>f</td>\n",
       "      <td>t</td>\n",
       "      <td>f</td>\n",
       "      <td>f</td>\n",
       "      <td>57.0</td>\n",
       "      <td>0.0</td>\n",
       "      <td>7.0</td>\n",
       "    </tr>\n",
       "    <tr>\n",
       "      <th>2</th>\n",
       "      <td>ffff97ed93720407d70a2787475932b0</td>\n",
       "      <td>f</td>\n",
       "      <td>f</td>\n",
       "      <td>t</td>\n",
       "      <td>t</td>\n",
       "      <td>t</td>\n",
       "      <td>t</td>\n",
       "      <td>t</td>\n",
       "      <td>f</td>\n",
       "      <td>100.0</td>\n",
       "      <td>0.0</td>\n",
       "      <td>3.0</td>\n",
       "    </tr>\n",
       "    <tr>\n",
       "      <th>3</th>\n",
       "      <td>ffff418bb42fad24347527ad96100f81</td>\n",
       "      <td>f</td>\n",
       "      <td>f</td>\n",
       "      <td>f</td>\n",
       "      <td>t</td>\n",
       "      <td>t</td>\n",
       "      <td>f</td>\n",
       "      <td>f</td>\n",
       "      <td>f</td>\n",
       "      <td>100.0</td>\n",
       "      <td>0.0</td>\n",
       "      <td>1.0</td>\n",
       "    </tr>\n",
       "    <tr>\n",
       "      <th>4</th>\n",
       "      <td>ffff2d9c769c8fb5335e949c615425eb</td>\n",
       "      <td>t</td>\n",
       "      <td>t</td>\n",
       "      <td>t</td>\n",
       "      <td>t</td>\n",
       "      <td>t</td>\n",
       "      <td>f</td>\n",
       "      <td>t</td>\n",
       "      <td>f</td>\n",
       "      <td>63.0</td>\n",
       "      <td>6.0</td>\n",
       "      <td>2.0</td>\n",
       "    </tr>\n",
       "  </tbody>\n",
       "</table>\n",
       "</div>"
      ],
      "text/plain": [
       "                          projectid is_exciting  \\\n",
       "0  ffffc4f85b60efc5b52347df489d0238           f   \n",
       "1  ffffac55ee02a49d1abc87ba6fc61135           f   \n",
       "2  ffff97ed93720407d70a2787475932b0           f   \n",
       "3  ffff418bb42fad24347527ad96100f81           f   \n",
       "4  ffff2d9c769c8fb5335e949c615425eb           t   \n",
       "\n",
       "  at_least_1_teacher_referred_donor fully_funded at_least_1_green_donation  \\\n",
       "0                               NaN            f                       NaN   \n",
       "1                                 f            t                         t   \n",
       "2                                 f            t                         t   \n",
       "3                                 f            f                         t   \n",
       "4                                 t            t                         t   \n",
       "\n",
       "  great_chat three_or_more_non_teacher_referred_donors  \\\n",
       "0          f                                       NaN   \n",
       "1          f                                         t   \n",
       "2          t                                         t   \n",
       "3          t                                         f   \n",
       "4          t                                         f   \n",
       "\n",
       "  one_non_teacher_referred_donor_giving_100_plus  \\\n",
       "0                                            NaN   \n",
       "1                                              f   \n",
       "2                                              t   \n",
       "3                                              f   \n",
       "4                                              t   \n",
       "\n",
       "  donation_from_thoughtful_donor  great_messages_proportion  \\\n",
       "0                            NaN                        NaN   \n",
       "1                              f                       57.0   \n",
       "2                              f                      100.0   \n",
       "3                              f                      100.0   \n",
       "4                              f                       63.0   \n",
       "\n",
       "   teacher_referred_count  non_teacher_referred_count  \n",
       "0                     NaN                         NaN  \n",
       "1                     0.0                         7.0  \n",
       "2                     0.0                         3.0  \n",
       "3                     0.0                         1.0  \n",
       "4                     6.0                         2.0  "
      ]
     },
     "execution_count": 3,
     "metadata": {},
     "output_type": "execute_result"
    }
   ],
   "source": [
    "outcomes_df = pd.read_csv('outcomes.csv')\n",
    "outcomes_df.head()"
   ]
  },
  {
   "cell_type": "code",
   "execution_count": 4,
   "metadata": {},
   "outputs": [
    {
     "data": {
      "text/html": [
       "<div>\n",
       "<style scoped>\n",
       "    .dataframe tbody tr th:only-of-type {\n",
       "        vertical-align: middle;\n",
       "    }\n",
       "\n",
       "    .dataframe tbody tr th {\n",
       "        vertical-align: top;\n",
       "    }\n",
       "\n",
       "    .dataframe thead th {\n",
       "        text-align: right;\n",
       "    }\n",
       "</style>\n",
       "<table border=\"1\" class=\"dataframe\">\n",
       "  <thead>\n",
       "    <tr style=\"text-align: right;\">\n",
       "      <th></th>\n",
       "      <th>projectid</th>\n",
       "      <th>teacher_acctid</th>\n",
       "      <th>schoolid</th>\n",
       "      <th>school_ncesid</th>\n",
       "      <th>school_latitude</th>\n",
       "      <th>school_longitude</th>\n",
       "      <th>school_city</th>\n",
       "      <th>school_state</th>\n",
       "      <th>school_zip</th>\n",
       "      <th>school_metro</th>\n",
       "      <th>...</th>\n",
       "      <th>resource_type</th>\n",
       "      <th>poverty_level</th>\n",
       "      <th>grade_level</th>\n",
       "      <th>fulfillment_labor_materials</th>\n",
       "      <th>total_price_excluding_optional_support</th>\n",
       "      <th>total_price_including_optional_support</th>\n",
       "      <th>students_reached</th>\n",
       "      <th>eligible_double_your_impact_match</th>\n",
       "      <th>eligible_almost_home_match</th>\n",
       "      <th>date_posted</th>\n",
       "    </tr>\n",
       "  </thead>\n",
       "  <tbody>\n",
       "    <tr>\n",
       "      <th>0</th>\n",
       "      <td>316ed8fb3b81402ff6ac8f721bb31192</td>\n",
       "      <td>42d43fa6f37314365d08692e08680973</td>\n",
       "      <td>c0e6ce89b244764085691a1b8e28cb81</td>\n",
       "      <td>6.362701e+10</td>\n",
       "      <td>36.576340</td>\n",
       "      <td>-119.608713</td>\n",
       "      <td>Selma</td>\n",
       "      <td>CA</td>\n",
       "      <td>93662.0</td>\n",
       "      <td>NaN</td>\n",
       "      <td>...</td>\n",
       "      <td>Books</td>\n",
       "      <td>highest poverty</td>\n",
       "      <td>Grades 6-8</td>\n",
       "      <td>30.0</td>\n",
       "      <td>555.81</td>\n",
       "      <td>653.89</td>\n",
       "      <td>32.0</td>\n",
       "      <td>f</td>\n",
       "      <td>f</td>\n",
       "      <td>2014-05-12</td>\n",
       "    </tr>\n",
       "    <tr>\n",
       "      <th>1</th>\n",
       "      <td>90de744e368a7e4883223ca49318ae30</td>\n",
       "      <td>864eb466462bf704bf7a16a585ef296a</td>\n",
       "      <td>d711e47810900c96f26a5d0be30c446d</td>\n",
       "      <td>4.837020e+11</td>\n",
       "      <td>32.911179</td>\n",
       "      <td>-96.723640</td>\n",
       "      <td>Dallas</td>\n",
       "      <td>TX</td>\n",
       "      <td>75243.0</td>\n",
       "      <td>urban</td>\n",
       "      <td>...</td>\n",
       "      <td>Books</td>\n",
       "      <td>highest poverty</td>\n",
       "      <td>Grades PreK-2</td>\n",
       "      <td>30.0</td>\n",
       "      <td>296.47</td>\n",
       "      <td>348.79</td>\n",
       "      <td>22.0</td>\n",
       "      <td>f</td>\n",
       "      <td>f</td>\n",
       "      <td>2014-05-12</td>\n",
       "    </tr>\n",
       "    <tr>\n",
       "      <th>2</th>\n",
       "      <td>32943bb1063267de6ed19fc0ceb4b9a7</td>\n",
       "      <td>37f85135259ece793213aca9d8765542</td>\n",
       "      <td>665c3613013ba0a66e3a2a26b89f1b68</td>\n",
       "      <td>4.103270e+11</td>\n",
       "      <td>45.166039</td>\n",
       "      <td>-122.414576</td>\n",
       "      <td>Colton</td>\n",
       "      <td>OR</td>\n",
       "      <td>97017.0</td>\n",
       "      <td>rural</td>\n",
       "      <td>...</td>\n",
       "      <td>Technology</td>\n",
       "      <td>high poverty</td>\n",
       "      <td>Grades PreK-2</td>\n",
       "      <td>30.0</td>\n",
       "      <td>430.89</td>\n",
       "      <td>506.93</td>\n",
       "      <td>17.0</td>\n",
       "      <td>f</td>\n",
       "      <td>f</td>\n",
       "      <td>2014-05-11</td>\n",
       "    </tr>\n",
       "    <tr>\n",
       "      <th>3</th>\n",
       "      <td>bb18f409abda2f264d5acda8cab577a9</td>\n",
       "      <td>2133fc46f951f1e7d60645b0f9e48a6c</td>\n",
       "      <td>4f12c3fa0c1cce823c7ba1df57e90ccb</td>\n",
       "      <td>3.600153e+11</td>\n",
       "      <td>40.641727</td>\n",
       "      <td>-73.965655</td>\n",
       "      <td>Brooklyn</td>\n",
       "      <td>NY</td>\n",
       "      <td>11226.0</td>\n",
       "      <td>urban</td>\n",
       "      <td>...</td>\n",
       "      <td>Books</td>\n",
       "      <td>highest poverty</td>\n",
       "      <td>Grades 3-5</td>\n",
       "      <td>30.0</td>\n",
       "      <td>576.07</td>\n",
       "      <td>677.73</td>\n",
       "      <td>12.0</td>\n",
       "      <td>f</td>\n",
       "      <td>f</td>\n",
       "      <td>2014-05-11</td>\n",
       "    </tr>\n",
       "    <tr>\n",
       "      <th>4</th>\n",
       "      <td>24761b686e18e5eace634607acbcc19f</td>\n",
       "      <td>867ff478a63f5457eaf41049536c47cd</td>\n",
       "      <td>10179fd362d7b8cf0e89baa1ca3025bb</td>\n",
       "      <td>6.227100e+10</td>\n",
       "      <td>34.043939</td>\n",
       "      <td>-118.288371</td>\n",
       "      <td>Los Angeles</td>\n",
       "      <td>CA</td>\n",
       "      <td>90006.0</td>\n",
       "      <td>urban</td>\n",
       "      <td>...</td>\n",
       "      <td>Other</td>\n",
       "      <td>highest poverty</td>\n",
       "      <td>Grades PreK-2</td>\n",
       "      <td>30.0</td>\n",
       "      <td>408.40</td>\n",
       "      <td>480.47</td>\n",
       "      <td>24.0</td>\n",
       "      <td>f</td>\n",
       "      <td>f</td>\n",
       "      <td>2014-05-11</td>\n",
       "    </tr>\n",
       "  </tbody>\n",
       "</table>\n",
       "<p>5 rows × 35 columns</p>\n",
       "</div>"
      ],
      "text/plain": [
       "                          projectid                    teacher_acctid  \\\n",
       "0  316ed8fb3b81402ff6ac8f721bb31192  42d43fa6f37314365d08692e08680973   \n",
       "1  90de744e368a7e4883223ca49318ae30  864eb466462bf704bf7a16a585ef296a   \n",
       "2  32943bb1063267de6ed19fc0ceb4b9a7  37f85135259ece793213aca9d8765542   \n",
       "3  bb18f409abda2f264d5acda8cab577a9  2133fc46f951f1e7d60645b0f9e48a6c   \n",
       "4  24761b686e18e5eace634607acbcc19f  867ff478a63f5457eaf41049536c47cd   \n",
       "\n",
       "                           schoolid  school_ncesid  school_latitude  \\\n",
       "0  c0e6ce89b244764085691a1b8e28cb81   6.362701e+10        36.576340   \n",
       "1  d711e47810900c96f26a5d0be30c446d   4.837020e+11        32.911179   \n",
       "2  665c3613013ba0a66e3a2a26b89f1b68   4.103270e+11        45.166039   \n",
       "3  4f12c3fa0c1cce823c7ba1df57e90ccb   3.600153e+11        40.641727   \n",
       "4  10179fd362d7b8cf0e89baa1ca3025bb   6.227100e+10        34.043939   \n",
       "\n",
       "   school_longitude  school_city school_state  school_zip school_metro  \\\n",
       "0       -119.608713        Selma           CA     93662.0          NaN   \n",
       "1        -96.723640       Dallas           TX     75243.0        urban   \n",
       "2       -122.414576       Colton           OR     97017.0        rural   \n",
       "3        -73.965655     Brooklyn           NY     11226.0        urban   \n",
       "4       -118.288371  Los Angeles           CA     90006.0        urban   \n",
       "\n",
       "      ...     resource_type    poverty_level    grade_level  \\\n",
       "0     ...             Books  highest poverty     Grades 6-8   \n",
       "1     ...             Books  highest poverty  Grades PreK-2   \n",
       "2     ...        Technology     high poverty  Grades PreK-2   \n",
       "3     ...             Books  highest poverty     Grades 3-5   \n",
       "4     ...             Other  highest poverty  Grades PreK-2   \n",
       "\n",
       "  fulfillment_labor_materials total_price_excluding_optional_support  \\\n",
       "0                        30.0                                 555.81   \n",
       "1                        30.0                                 296.47   \n",
       "2                        30.0                                 430.89   \n",
       "3                        30.0                                 576.07   \n",
       "4                        30.0                                 408.40   \n",
       "\n",
       "  total_price_including_optional_support students_reached  \\\n",
       "0                                 653.89             32.0   \n",
       "1                                 348.79             22.0   \n",
       "2                                 506.93             17.0   \n",
       "3                                 677.73             12.0   \n",
       "4                                 480.47             24.0   \n",
       "\n",
       "  eligible_double_your_impact_match eligible_almost_home_match date_posted  \n",
       "0                                 f                          f  2014-05-12  \n",
       "1                                 f                          f  2014-05-12  \n",
       "2                                 f                          f  2014-05-11  \n",
       "3                                 f                          f  2014-05-11  \n",
       "4                                 f                          f  2014-05-11  \n",
       "\n",
       "[5 rows x 35 columns]"
      ]
     },
     "execution_count": 4,
     "metadata": {},
     "output_type": "execute_result"
    }
   ],
   "source": [
    "projects_df = pd.read_csv('projects.csv')\n",
    "projects_df.head()"
   ]
  },
  {
   "cell_type": "code",
   "execution_count": 5,
   "metadata": {},
   "outputs": [
    {
     "data": {
      "text/html": [
       "<div>\n",
       "<style scoped>\n",
       "    .dataframe tbody tr th:only-of-type {\n",
       "        vertical-align: middle;\n",
       "    }\n",
       "\n",
       "    .dataframe tbody tr th {\n",
       "        vertical-align: top;\n",
       "    }\n",
       "\n",
       "    .dataframe thead th {\n",
       "        text-align: right;\n",
       "    }\n",
       "</style>\n",
       "<table border=\"1\" class=\"dataframe\">\n",
       "  <thead>\n",
       "    <tr style=\"text-align: right;\">\n",
       "      <th></th>\n",
       "      <th>resourceid</th>\n",
       "      <th>projectid</th>\n",
       "      <th>vendorid</th>\n",
       "      <th>vendor_name</th>\n",
       "      <th>project_resource_type</th>\n",
       "      <th>item_name</th>\n",
       "      <th>item_number</th>\n",
       "      <th>item_unit_price</th>\n",
       "      <th>item_quantity</th>\n",
       "    </tr>\n",
       "  </thead>\n",
       "  <tbody>\n",
       "    <tr>\n",
       "      <th>0</th>\n",
       "      <td>8a1c1c45bc30d065061912fd9114fcf3</td>\n",
       "      <td>ffffc4f85b60efc5b52347df489d0238</td>\n",
       "      <td>430.0</td>\n",
       "      <td>Woodwind and Brasswind</td>\n",
       "      <td>Technology</td>\n",
       "      <td>iPod nano 4th Gen 8GB (Black)</td>\n",
       "      <td>249995.001</td>\n",
       "      <td>149.00</td>\n",
       "      <td>4.0</td>\n",
       "    </tr>\n",
       "    <tr>\n",
       "      <th>1</th>\n",
       "      <td>015d2c4935c50427964a12dc3f584091</td>\n",
       "      <td>ffffac55ee02a49d1abc87ba6fc61135</td>\n",
       "      <td>82.0</td>\n",
       "      <td>Best Buy for Business</td>\n",
       "      <td>Technology</td>\n",
       "      <td>Sony bloggie MHS-FS1 - camcorder - internal fl...</td>\n",
       "      <td>BB11216668</td>\n",
       "      <td>148.00</td>\n",
       "      <td>1.0</td>\n",
       "    </tr>\n",
       "    <tr>\n",
       "      <th>2</th>\n",
       "      <td>26a02944b2f0c25f9abdeacca3ede3ee</td>\n",
       "      <td>ffff97ed93720407d70a2787475932b0</td>\n",
       "      <td>767.0</td>\n",
       "      <td>Lakeshore Learning Materials</td>\n",
       "      <td>Supplies</td>\n",
       "      <td>VX748 - Best-Buy Jumbo Crayons - 12-Color Box</td>\n",
       "      <td>VX748</td>\n",
       "      <td>69.95</td>\n",
       "      <td>1.0</td>\n",
       "    </tr>\n",
       "    <tr>\n",
       "      <th>3</th>\n",
       "      <td>7fef1f92cb4447d18d599f69ea27e833</td>\n",
       "      <td>ffff97ed93720407d70a2787475932b0</td>\n",
       "      <td>767.0</td>\n",
       "      <td>Lakeshore Learning Materials</td>\n",
       "      <td>Supplies</td>\n",
       "      <td>LA138 - Best-Buy Write &amp; Wipe Broad-Tip Marker...</td>\n",
       "      <td>LA138</td>\n",
       "      <td>34.95</td>\n",
       "      <td>1.0</td>\n",
       "    </tr>\n",
       "    <tr>\n",
       "      <th>4</th>\n",
       "      <td>8dccf77df25ee615bb1a68b98ba9d861</td>\n",
       "      <td>ffff97ed93720407d70a2787475932b0</td>\n",
       "      <td>767.0</td>\n",
       "      <td>Lakeshore Learning Materials</td>\n",
       "      <td>Supplies</td>\n",
       "      <td>BJ7471 - 1 1/2&amp;#34; Ruled Chart Tablet</td>\n",
       "      <td>BJ7471</td>\n",
       "      <td>10.95</td>\n",
       "      <td>4.0</td>\n",
       "    </tr>\n",
       "  </tbody>\n",
       "</table>\n",
       "</div>"
      ],
      "text/plain": [
       "                         resourceid                         projectid  \\\n",
       "0  8a1c1c45bc30d065061912fd9114fcf3  ffffc4f85b60efc5b52347df489d0238   \n",
       "1  015d2c4935c50427964a12dc3f584091  ffffac55ee02a49d1abc87ba6fc61135   \n",
       "2  26a02944b2f0c25f9abdeacca3ede3ee  ffff97ed93720407d70a2787475932b0   \n",
       "3  7fef1f92cb4447d18d599f69ea27e833  ffff97ed93720407d70a2787475932b0   \n",
       "4  8dccf77df25ee615bb1a68b98ba9d861  ffff97ed93720407d70a2787475932b0   \n",
       "\n",
       "   vendorid                   vendor_name project_resource_type  \\\n",
       "0     430.0        Woodwind and Brasswind            Technology   \n",
       "1      82.0         Best Buy for Business            Technology   \n",
       "2     767.0  Lakeshore Learning Materials              Supplies   \n",
       "3     767.0  Lakeshore Learning Materials              Supplies   \n",
       "4     767.0  Lakeshore Learning Materials              Supplies   \n",
       "\n",
       "                                           item_name item_number  \\\n",
       "0                      iPod nano 4th Gen 8GB (Black)  249995.001   \n",
       "1  Sony bloggie MHS-FS1 - camcorder - internal fl...  BB11216668   \n",
       "2      VX748 - Best-Buy Jumbo Crayons - 12-Color Box       VX748   \n",
       "3  LA138 - Best-Buy Write & Wipe Broad-Tip Marker...       LA138   \n",
       "4             BJ7471 - 1 1/2&#34; Ruled Chart Tablet      BJ7471   \n",
       "\n",
       "   item_unit_price  item_quantity  \n",
       "0           149.00            4.0  \n",
       "1           148.00            1.0  \n",
       "2            69.95            1.0  \n",
       "3            34.95            1.0  \n",
       "4            10.95            4.0  "
      ]
     },
     "execution_count": 5,
     "metadata": {},
     "output_type": "execute_result"
    }
   ],
   "source": [
    "resources_df = pd.read_csv('resources.csv')\n",
    "resources_df.head()"
   ]
  },
  {
   "cell_type": "code",
   "execution_count": 6,
   "metadata": {},
   "outputs": [
    {
     "data": {
      "text/html": [
       "<div>\n",
       "<style scoped>\n",
       "    .dataframe tbody tr th:only-of-type {\n",
       "        vertical-align: middle;\n",
       "    }\n",
       "\n",
       "    .dataframe tbody tr th {\n",
       "        vertical-align: top;\n",
       "    }\n",
       "\n",
       "    .dataframe thead th {\n",
       "        text-align: right;\n",
       "    }\n",
       "</style>\n",
       "<table border=\"1\" class=\"dataframe\">\n",
       "  <thead>\n",
       "    <tr style=\"text-align: right;\">\n",
       "      <th></th>\n",
       "      <th>projectid</th>\n",
       "      <th>teacher_acctid</th>\n",
       "      <th>title</th>\n",
       "      <th>short_description</th>\n",
       "      <th>need_statement</th>\n",
       "      <th>essay</th>\n",
       "    </tr>\n",
       "  </thead>\n",
       "  <tbody>\n",
       "    <tr>\n",
       "      <th>0</th>\n",
       "      <td>ffffc4f85b60efc5b52347df489d0238</td>\n",
       "      <td>c24011b20fc161ed02248e85beb59a90</td>\n",
       "      <td>iMath</td>\n",
       "      <td>It is imperative that teachers bring technolog...</td>\n",
       "      <td>My students need four iPods.</td>\n",
       "      <td>I am a fourth year fifth grade math teacher. T...</td>\n",
       "    </tr>\n",
       "    <tr>\n",
       "      <th>1</th>\n",
       "      <td>ffffac55ee02a49d1abc87ba6fc61135</td>\n",
       "      <td>947066d0af47e0566f334566553dd6a6</td>\n",
       "      <td>Recording Rockin' Readers</td>\n",
       "      <td>Can you imagine having to translate everything...</td>\n",
       "      <td>My students need a camcorder.</td>\n",
       "      <td>Can you imagine having to translate everything...</td>\n",
       "    </tr>\n",
       "    <tr>\n",
       "      <th>2</th>\n",
       "      <td>ffff97ed93720407d70a2787475932b0</td>\n",
       "      <td>462270f5d5c212162fcab11afa2623cb</td>\n",
       "      <td>Kindergarten In Need of Important Materials!</td>\n",
       "      <td>It takes a special person to donate to a group...</td>\n",
       "      <td>My students need 17 assorted classroom materia...</td>\n",
       "      <td>Hi. I teach a wonderful group of 4-5 year old ...</td>\n",
       "    </tr>\n",
       "    <tr>\n",
       "      <th>3</th>\n",
       "      <td>ffff7266778f71242675416e600b94e1</td>\n",
       "      <td>b9a8f14199e0d8109200ece179281f4f</td>\n",
       "      <td>Let's Find Out!</td>\n",
       "      <td>My Kindergarten students come from a variety o...</td>\n",
       "      <td>My students need 25 copies of Scholastic's \"Le...</td>\n",
       "      <td>My Kindergarten students come from a variety o...</td>\n",
       "    </tr>\n",
       "    <tr>\n",
       "      <th>4</th>\n",
       "      <td>ffff418bb42fad24347527ad96100f81</td>\n",
       "      <td>e885fb002a1d0d39aaed9d21a7683549</td>\n",
       "      <td>Whistle While We Work!</td>\n",
       "      <td>By using the cross curricular games requested,...</td>\n",
       "      <td>My students need grade level appropriate games...</td>\n",
       "      <td>All work and no play makes school a dull place...</td>\n",
       "    </tr>\n",
       "  </tbody>\n",
       "</table>\n",
       "</div>"
      ],
      "text/plain": [
       "                          projectid                    teacher_acctid  \\\n",
       "0  ffffc4f85b60efc5b52347df489d0238  c24011b20fc161ed02248e85beb59a90   \n",
       "1  ffffac55ee02a49d1abc87ba6fc61135  947066d0af47e0566f334566553dd6a6   \n",
       "2  ffff97ed93720407d70a2787475932b0  462270f5d5c212162fcab11afa2623cb   \n",
       "3  ffff7266778f71242675416e600b94e1  b9a8f14199e0d8109200ece179281f4f   \n",
       "4  ffff418bb42fad24347527ad96100f81  e885fb002a1d0d39aaed9d21a7683549   \n",
       "\n",
       "                                          title  \\\n",
       "0                                         iMath   \n",
       "1                     Recording Rockin' Readers   \n",
       "2  Kindergarten In Need of Important Materials!   \n",
       "3                               Let's Find Out!   \n",
       "4                        Whistle While We Work!   \n",
       "\n",
       "                                   short_description  \\\n",
       "0  It is imperative that teachers bring technolog...   \n",
       "1  Can you imagine having to translate everything...   \n",
       "2  It takes a special person to donate to a group...   \n",
       "3  My Kindergarten students come from a variety o...   \n",
       "4  By using the cross curricular games requested,...   \n",
       "\n",
       "                                      need_statement  \\\n",
       "0                       My students need four iPods.   \n",
       "1                     My students need a camcorder.    \n",
       "2  My students need 17 assorted classroom materia...   \n",
       "3  My students need 25 copies of Scholastic's \"Le...   \n",
       "4  My students need grade level appropriate games...   \n",
       "\n",
       "                                               essay  \n",
       "0  I am a fourth year fifth grade math teacher. T...  \n",
       "1  Can you imagine having to translate everything...  \n",
       "2  Hi. I teach a wonderful group of 4-5 year old ...  \n",
       "3  My Kindergarten students come from a variety o...  \n",
       "4  All work and no play makes school a dull place...  "
      ]
     },
     "execution_count": 6,
     "metadata": {},
     "output_type": "execute_result"
    }
   ],
   "source": [
    "essays_df = pd.read_csv('essays.csv')\n",
    "essays_df.head()"
   ]
  },
  {
   "cell_type": "markdown",
   "metadata": {},
   "source": [
    "#### The essays data set does not lend itself to straightforward analysis, but the other four data sets have many categories that can be used to gain more information. Some important columns are donor demographics (city, state of donors), donation amount, 'is_exciting' (if the project was designated as 'exciting'), teacher-referred and non-teacher-referred donations, school demographics (city, state, urban or rural area type), grade level, poverty level, project price, students reached, project resource type and resource costs. Below I will create summary tables which explore some of these fields."
   ]
  },
  {
   "cell_type": "code",
   "execution_count": 7,
   "metadata": {},
   "outputs": [
    {
     "data": {
      "text/plain": [
       "array(['10_to_100', 'under_10', '100_and_up'], dtype=object)"
      ]
     },
     "execution_count": 7,
     "metadata": {},
     "output_type": "execute_result"
    }
   ],
   "source": [
    "donations_df['dollar_amount'].unique()"
   ]
  },
  {
   "cell_type": "markdown",
   "metadata": {},
   "source": [
    "### Donations: one table with number of donations in each amount category; one table with total donations, total projects donated to, total amount donated by region (four US regions defined by US Census Bureau)"
   ]
  },
  {
   "cell_type": "code",
   "execution_count": 8,
   "metadata": {},
   "outputs": [
    {
     "data": {
      "text/html": [
       "<div>\n",
       "<style scoped>\n",
       "    .dataframe tbody tr th:only-of-type {\n",
       "        vertical-align: middle;\n",
       "    }\n",
       "\n",
       "    .dataframe tbody tr th {\n",
       "        vertical-align: top;\n",
       "    }\n",
       "\n",
       "    .dataframe thead th {\n",
       "        text-align: right;\n",
       "    }\n",
       "</style>\n",
       "<table border=\"1\" class=\"dataframe\">\n",
       "  <thead>\n",
       "    <tr style=\"text-align: right;\">\n",
       "      <th></th>\n",
       "      <th>number of donations</th>\n",
       "    </tr>\n",
       "  </thead>\n",
       "  <tbody>\n",
       "    <tr>\n",
       "      <th>under $10</th>\n",
       "      <td>420221</td>\n",
       "    </tr>\n",
       "    <tr>\n",
       "      <th>10 to $100</th>\n",
       "      <td>2047432</td>\n",
       "    </tr>\n",
       "    <tr>\n",
       "      <th>over $100</th>\n",
       "      <td>630336</td>\n",
       "    </tr>\n",
       "  </tbody>\n",
       "</table>\n",
       "</div>"
      ],
      "text/plain": [
       "            number of donations\n",
       "under $10                420221\n",
       "10 to $100              2047432\n",
       "over $100                630336"
      ]
     },
     "execution_count": 8,
     "metadata": {},
     "output_type": "execute_result"
    }
   ],
   "source": [
    "group_1 = donations_df['dollar_amount'].value_counts()['under_10']\n",
    "group_2 = donations_df['dollar_amount'].value_counts()['10_to_100']\n",
    "group_3 = donations_df['dollar_amount'].value_counts()['100_and_up']\n",
    "donation_amounts = pd.DataFrame({\"number of donations\": [group_1, group_2, group_3]},\n",
    "                               index = [\"under $10\", \"10 to $100\", \"over $100\"])\n",
    "donation_amounts"
   ]
  },
  {
   "cell_type": "markdown",
   "metadata": {},
   "source": [
    "#### The average single donation to a project is $65.95"
   ]
  },
  {
   "cell_type": "code",
   "execution_count": 9,
   "metadata": {},
   "outputs": [
    {
     "name": "stdout",
     "output_type": "stream",
     "text": [
      "65.94590247721653\n"
     ]
    }
   ],
   "source": [
    "average_donation = donations_df['donation_to_project'].mean()\n",
    "print (average_donation)"
   ]
  },
  {
   "cell_type": "markdown",
   "metadata": {},
   "source": [
    "#### The largest single donation to a project is $147,204"
   ]
  },
  {
   "cell_type": "code",
   "execution_count": 10,
   "metadata": {},
   "outputs": [
    {
     "name": "stdout",
     "output_type": "stream",
     "text": [
      "147204.0\n"
     ]
    }
   ],
   "source": [
    "largest_donation = donations_df['donation_to_project'].max()\n",
    "print (largest_donation)"
   ]
  },
  {
   "cell_type": "markdown",
   "metadata": {},
   "source": [
    "#### The total amount donated to projects is $204,299,680.47"
   ]
  },
  {
   "cell_type": "code",
   "execution_count": 11,
   "metadata": {},
   "outputs": [
    {
     "name": "stdout",
     "output_type": "stream",
     "text": [
      "204299680.47000024\n"
     ]
    }
   ],
   "source": [
    "total_donations = donations_df['donation_to_project'].sum()\n",
    "print (total_donations)"
   ]
  },
  {
   "cell_type": "markdown",
   "metadata": {},
   "source": [
    "#### The total number of donations is 3,097,989"
   ]
  },
  {
   "cell_type": "code",
   "execution_count": 12,
   "metadata": {},
   "outputs": [
    {
     "name": "stdout",
     "output_type": "stream",
     "text": [
      "3097989\n"
     ]
    }
   ],
   "source": [
    "donation_count = donations_df['donation_to_project'].count()\n",
    "print (donation_count)"
   ]
  },
  {
   "cell_type": "markdown",
   "metadata": {},
   "source": [
    "#### However, analysis reveals that there are many territories (as well as blank entries) included in the donor states that aren't US states - such as Armed Forces, American Samoa (AS), Virgin Islands (VI), Guam (GU), etc. Thus, to get the numbers of total amount donated and total donation count for actual US states (plus DC), some further analysis is needed. Those numbers are $171,886,053.31 and 2,443,979 and agree with the totals in my regional analysis below."
   ]
  },
  {
   "cell_type": "code",
   "execution_count": 13,
   "metadata": {},
   "outputs": [
    {
     "data": {
      "text/plain": [
       "array(['GA', 'MD', 'IN', nan, 'NY', 'TX', 'ID', 'CO', '  ', 'CA', 'SC',\n",
       "       'IL', 'OK', 'MO', 'PA', 'MA', 'NJ', 'FL', 'MI', 'CT', 'TN', 'WI',\n",
       "       'MN', 'MS', 'DC', 'NC', 'AL', 'WA', 'VA', 'OR', 'AZ', 'LA', 'OH',\n",
       "       'KY', 'VT', 'KS', 'UT', 'IA', 'NH', 'NV', 'ME', 'HI', 'AR', 'NM',\n",
       "       'RI', 'MT', 'NE', 'WY', 'AP', 'SD', 'AK', 'DE', 'ND', 'WV', 'AS',\n",
       "       'VI', 'AE', 'GU', 'PR', 'AA', 'MP', 'HH'], dtype=object)"
      ]
     },
     "execution_count": 13,
     "metadata": {},
     "output_type": "execute_result"
    }
   ],
   "source": [
    "donations_df['donor_state'].unique()"
   ]
  },
  {
   "cell_type": "code",
   "execution_count": 14,
   "metadata": {},
   "outputs": [
    {
     "name": "stdout",
     "output_type": "stream",
     "text": [
      "171886053.30999997\n",
      "2443979\n"
     ]
    }
   ],
   "source": [
    "fifty_states = donations_df[donations_df['donor_state'].isin(['ME', 'NY', 'NJ', 'VT', 'MA', 'RI', 'CT', 'NH', 'PA',\n",
    "                                                              'IL', 'IN', 'IA', 'KS', 'MI', 'MN', 'MO', 'NE', 'ND', 'OH', 'SD', 'WI',\n",
    "                                                              'MT', 'WY', 'CO', 'NM', 'ID', 'UT', 'AZ', 'NV', 'WA', 'OR', 'CA', 'AK', 'HI',\n",
    "                                                              'DE', 'FL', 'GA', 'MD', 'NC', 'SC', 'VA', 'WV', 'AL', 'KY', 'MS', 'TN', 'AR', 'LA', 'OK', 'TX', 'DC'])]\n",
    "total_fifty_states = fifty_states['donation_to_project'].sum()\n",
    "count_fifty_states = fifty_states['donation_to_project'].count()\n",
    "\n",
    "print (total_fifty_states)\n",
    "print (count_fifty_states)"
   ]
  },
  {
   "cell_type": "code",
   "execution_count": 15,
   "metadata": {},
   "outputs": [
    {
     "data": {
      "text/html": [
       "<div>\n",
       "<style scoped>\n",
       "    .dataframe tbody tr th:only-of-type {\n",
       "        vertical-align: middle;\n",
       "    }\n",
       "\n",
       "    .dataframe tbody tr th {\n",
       "        vertical-align: top;\n",
       "    }\n",
       "\n",
       "    .dataframe thead th {\n",
       "        text-align: right;\n",
       "    }\n",
       "</style>\n",
       "<table border=\"1\" class=\"dataframe\">\n",
       "  <thead>\n",
       "    <tr style=\"text-align: right;\">\n",
       "      <th></th>\n",
       "      <th>Number of donations</th>\n",
       "      <th>Number of Projects Donated to</th>\n",
       "      <th>Amount Donated</th>\n",
       "    </tr>\n",
       "  </thead>\n",
       "  <tbody>\n",
       "    <tr>\n",
       "      <th>Northeast</th>\n",
       "      <td>660915</td>\n",
       "      <td>246425</td>\n",
       "      <td>5.156450e+07</td>\n",
       "    </tr>\n",
       "    <tr>\n",
       "      <th>Midwest</th>\n",
       "      <td>342893</td>\n",
       "      <td>142189</td>\n",
       "      <td>2.095640e+07</td>\n",
       "    </tr>\n",
       "    <tr>\n",
       "      <th>West</th>\n",
       "      <td>783204</td>\n",
       "      <td>249476</td>\n",
       "      <td>6.202496e+07</td>\n",
       "    </tr>\n",
       "    <tr>\n",
       "      <th>South</th>\n",
       "      <td>656967</td>\n",
       "      <td>222925</td>\n",
       "      <td>3.734019e+07</td>\n",
       "    </tr>\n",
       "    <tr>\n",
       "      <th>Total</th>\n",
       "      <td>2443979</td>\n",
       "      <td>861015</td>\n",
       "      <td>1.718861e+08</td>\n",
       "    </tr>\n",
       "  </tbody>\n",
       "</table>\n",
       "</div>"
      ],
      "text/plain": [
       "           Number of donations  Number of Projects Donated to  Amount Donated\n",
       "Northeast               660915                         246425    5.156450e+07\n",
       "Midwest                 342893                         142189    2.095640e+07\n",
       "West                    783204                         249476    6.202496e+07\n",
       "South                   656967                         222925    3.734019e+07\n",
       "Total                  2443979                         861015    1.718861e+08"
      ]
     },
     "execution_count": 15,
     "metadata": {},
     "output_type": "execute_result"
    }
   ],
   "source": [
    "northeast_donations = donations_df[donations_df['donor_state'].isin(['ME', 'NY', 'NJ', 'VT', 'MA', 'RI', 'CT', 'NH', 'PA'])]\n",
    "midwest_donations = donations_df[donations_df['donor_state'].isin(['IL', 'IN', 'IA', 'KS', 'MI', 'MN', 'MO', 'NE', 'ND', 'OH', 'SD', 'WI'])]\n",
    "west_donations = donations_df[donations_df['donor_state'].isin(['MT', 'WY', 'CO', 'NM', 'ID', 'UT', 'AZ', 'NV', 'WA', 'OR', 'CA', 'AK', 'HI'])]\n",
    "south_donations = donations_df[donations_df['donor_state'].isin(['DE', 'FL', 'GA', 'MD', 'NC', 'SC', 'VA', 'WV', 'AL', 'KY', 'MS', 'TN', 'AR', 'LA', 'OK', 'TX', 'DC'])]\n",
    "\n",
    "northeast_count = northeast_donations['donation_to_project'].count()\n",
    "northeast_projects = northeast_donations['projectid'].nunique()\n",
    "northeast_total = northeast_donations['donation_to_project'].sum()\n",
    "\n",
    "midwest_count = midwest_donations['donation_to_project'].count()\n",
    "midwest_projects = midwest_donations['projectid'].nunique()\n",
    "midwest_total = midwest_donations['donation_to_project'].sum()\n",
    "\n",
    "west_count = west_donations['donation_to_project'].count()\n",
    "west_projects = west_donations['projectid'].nunique()\n",
    "west_total = west_donations['donation_to_project'].sum()\n",
    "\n",
    "south_count = south_donations['donation_to_project'].count()\n",
    "south_projects = south_donations['projectid'].nunique()\n",
    "south_total = south_donations['donation_to_project'].sum()\n",
    "\n",
    "overall_count = northeast_count + midwest_count + west_count + south_count\n",
    "overall_projects = northeast_projects + midwest_projects + west_projects + south_projects\n",
    "overall_total = northeast_total + midwest_total + west_total + south_total\n",
    "\n",
    "donations_by_region = pd.DataFrame({\"Number of donations\": [northeast_count, midwest_count, west_count, south_count, overall_count],\n",
    "                                    \"Number of Projects Donated to\": [northeast_projects, midwest_projects, west_projects, south_projects, overall_projects],\n",
    "                                    \"Amount Donated\": [northeast_total, midwest_total, west_total, south_total, overall_total]},\n",
    "                               index = [\"Northeast\", \"Midwest\", \"West\", \"South\", \"Total\"])\n",
    "donations_by_region"
   ]
  },
  {
   "cell_type": "markdown",
   "metadata": {},
   "source": [
    "#### As another takeaway, the projects have approximately $200 donated to them on average (for donors in the regions above - 50 states and DC area)"
   ]
  },
  {
   "cell_type": "code",
   "execution_count": 16,
   "metadata": {},
   "outputs": [
    {
     "name": "stdout",
     "output_type": "stream",
     "text": [
      "199.63189179050306\n"
     ]
    }
   ],
   "source": [
    "average_project_funding = (overall_total / overall_projects)\n",
    "print (average_project_funding)"
   ]
  },
  {
   "cell_type": "markdown",
   "metadata": {},
   "source": [
    "### Create a pie chart with total donations from each region"
   ]
  },
  {
   "cell_type": "code",
   "execution_count": 17,
   "metadata": {},
   "outputs": [
    {
     "data": {
      "image/png": "[encoded data removed]",
      "text/plain": [
       "<Figure size 576x432 with 1 Axes>"
      ]
     },
     "metadata": {},
     "output_type": "display_data"
    }
   ],
   "source": [
    "labels = [\"Northeast\", \"Midwest\", \"West\", \"South\"]\n",
    "sizes = donations_by_region[\"Amount Donated\"][:4]\n",
    "colors = ['b', 'r', 'y', 'g']\n",
    "explode = (0, 0, 0, 0)\n",
    "\n",
    "fig = plt.figure(figsize=(8,6))\n",
    "plt.pie(sizes, explode=explode, labels=labels, colors=colors,\n",
    "        autopct=\"%1.5f%%\", shadow=True, startangle=140)\n",
    "plt.title(\"Total Donations by Region\")\n",
    "plt.plot()\n",
    "\n",
    "#Save plot to pdf\n",
    "plt.savefig(\"output/Total Donations by Region.pdf\", bbox_inches='tight')"
   ]
  },
  {
   "cell_type": "markdown",
   "metadata": {},
   "source": [
    "#### Interesting that the Northeast had a high number of donations and amount donated while it is the least populous region of the four. The West region had the highest donations. It seems that the DonorsChoose.org competition was more prevalent in these areas; perhaps the marketing or administration was targeted there more. Midwest is very low."
   ]
  },
  {
   "cell_type": "markdown",
   "metadata": {},
   "source": [
    "### Create a pie chart with total donations received by each region"
   ]
  },
  {
   "cell_type": "code",
   "execution_count": 18,
   "metadata": {},
   "outputs": [
    {
     "data": {
      "text/plain": [
       "array(['CA', 'TX', 'OR', 'NY', 'AZ', 'AL', 'GA', 'MI', 'NJ', 'NC', 'IN',\n",
       "       'OK', 'NV', 'WA', 'WI', 'IL', 'MA', 'MS', 'ME', 'PA', 'CT', 'TN',\n",
       "       'AR', 'CO', 'VA', 'MD', 'FL', 'HI', 'ID', 'DE', 'MT', 'KY', 'NM',\n",
       "       'UT', 'OH', 'MO', 'IA', 'LA', 'SD', 'AK', 'SC', 'DC', 'MN', 'KS',\n",
       "       'NH', 'VT', 'WV', 'RI', 'NE', 'WY', 'ND', 'La'], dtype=object)"
      ]
     },
     "execution_count": 18,
     "metadata": {},
     "output_type": "execute_result"
    }
   ],
   "source": [
    "projects_df['school_state'].unique()"
   ]
  },
  {
   "cell_type": "code",
   "execution_count": 19,
   "metadata": {},
   "outputs": [
    {
     "name": "stdout",
     "output_type": "stream",
     "text": [
      "204299680.47000003\n"
     ]
    }
   ],
   "source": [
    "merged = donations_df.merge(projects_df, on='projectid')\n",
    "received_donations = merged[['donation_to_project', 'school_state']]\n",
    "\n",
    "northeast_total_received = received_donations[received_donations['school_state'].isin(['ME', 'NY', 'NJ', 'VT', 'MA', 'RI', 'CT', 'NH', 'PA'])]['donation_to_project'].sum()\n",
    "midwest_total_received = received_donations[received_donations['school_state'].isin(['IL', 'IN', 'IA', 'KS', 'MI', 'MN', 'MO', 'NE', 'ND', 'OH', 'SD', 'WI'])]['donation_to_project'].sum()\n",
    "west_total_total_received = received_donations[received_donations['school_state'].isin(['MT', 'WY', 'CO', 'NM', 'ID', 'UT', 'AZ', 'NV', 'WA', 'OR', 'CA', 'AK', 'HI'])]['donation_to_project'].sum()\n",
    "south_total_received = received_donations[received_donations['school_state'].isin(['DE', 'FL', 'GA', 'MD', 'NC', 'SC', 'VA', 'WV', 'AL', 'KY', 'MS', 'TN', 'AR', 'LA', 'La', 'OK', 'TX', 'DC'])]['donation_to_project'].sum()\n",
    "\n",
    "print (northeast_total_received + midwest_total_received + west_total_total_received + south_total_received)"
   ]
  },
  {
   "cell_type": "markdown",
   "metadata": {},
   "source": [
    "#### Note that all of the donations are received by the 50 US states plus DC - the only adjustment I had to make was list both 'LA' and 'La' for Louisiana which is expressed in both abbreviations. The pie chart will be below."
   ]
  },
  {
   "cell_type": "code",
   "execution_count": 20,
   "metadata": {},
   "outputs": [
    {
     "data": {
      "image/png": "[encoded data removed]",
      "text/plain": [
       "<Figure size 576x432 with 1 Axes>"
      ]
     },
     "metadata": {},
     "output_type": "display_data"
    }
   ],
   "source": [
    "labels = [\"Northeast\", \"Midwest\", \"West\", \"South\"]\n",
    "sizes = [northeast_total_received, midwest_total_received, west_total_total_received, south_total_received]\n",
    "colors = ['c', 'm', 'w', 'r']\n",
    "explode = (0, 0, 0, 0)\n",
    "\n",
    "fig = plt.figure(figsize=(8,6))\n",
    "plt.pie(sizes, explode=explode, labels=labels, colors=colors,\n",
    "        autopct=\"%1.5f%%\", shadow=True, startangle=140)\n",
    "plt.title(\"Total Donations Received by Region\")\n",
    "plt.plot()\n",
    "\n",
    "#Save plot to pdf\n",
    "plt.savefig(\"output/Total Donations Received by Region.pdf\", bbox_inches='tight')"
   ]
  },
  {
   "cell_type": "markdown",
   "metadata": {},
   "source": [
    "#### From this pie plot we can see that the West received the most funding for DonorsChoose.org projects, closely followed by the South region."
   ]
  },
  {
   "cell_type": "markdown",
   "metadata": {},
   "source": [
    "### Projects: two summary tables related to Projects, one with the average project price and number of students reached by grade level and one with the average project price and number of students reached by poverty level"
   ]
  },
  {
   "cell_type": "code",
   "execution_count": 21,
   "metadata": {},
   "outputs": [
    {
     "data": {
      "text/html": [
       "<div>\n",
       "<style scoped>\n",
       "    .dataframe tbody tr th:only-of-type {\n",
       "        vertical-align: middle;\n",
       "    }\n",
       "\n",
       "    .dataframe tbody tr th {\n",
       "        vertical-align: top;\n",
       "    }\n",
       "\n",
       "    .dataframe thead th {\n",
       "        text-align: right;\n",
       "    }\n",
       "</style>\n",
       "<table border=\"1\" class=\"dataframe\">\n",
       "  <thead>\n",
       "    <tr style=\"text-align: right;\">\n",
       "      <th></th>\n",
       "      <th>grade_level</th>\n",
       "      <th>poverty_level</th>\n",
       "      <th>total_price_excluding_optional_support</th>\n",
       "      <th>students_reached</th>\n",
       "    </tr>\n",
       "  </thead>\n",
       "  <tbody>\n",
       "    <tr>\n",
       "      <th>0</th>\n",
       "      <td>Grades 6-8</td>\n",
       "      <td>highest poverty</td>\n",
       "      <td>555.81</td>\n",
       "      <td>32.0</td>\n",
       "    </tr>\n",
       "    <tr>\n",
       "      <th>1</th>\n",
       "      <td>Grades PreK-2</td>\n",
       "      <td>highest poverty</td>\n",
       "      <td>296.47</td>\n",
       "      <td>22.0</td>\n",
       "    </tr>\n",
       "    <tr>\n",
       "      <th>2</th>\n",
       "      <td>Grades PreK-2</td>\n",
       "      <td>high poverty</td>\n",
       "      <td>430.89</td>\n",
       "      <td>17.0</td>\n",
       "    </tr>\n",
       "    <tr>\n",
       "      <th>3</th>\n",
       "      <td>Grades 3-5</td>\n",
       "      <td>highest poverty</td>\n",
       "      <td>576.07</td>\n",
       "      <td>12.0</td>\n",
       "    </tr>\n",
       "    <tr>\n",
       "      <th>4</th>\n",
       "      <td>Grades PreK-2</td>\n",
       "      <td>highest poverty</td>\n",
       "      <td>408.40</td>\n",
       "      <td>24.0</td>\n",
       "    </tr>\n",
       "  </tbody>\n",
       "</table>\n",
       "</div>"
      ],
      "text/plain": [
       "     grade_level    poverty_level  total_price_excluding_optional_support  \\\n",
       "0     Grades 6-8  highest poverty                                  555.81   \n",
       "1  Grades PreK-2  highest poverty                                  296.47   \n",
       "2  Grades PreK-2     high poverty                                  430.89   \n",
       "3     Grades 3-5  highest poverty                                  576.07   \n",
       "4  Grades PreK-2  highest poverty                                  408.40   \n",
       "\n",
       "   students_reached  \n",
       "0              32.0  \n",
       "1              22.0  \n",
       "2              17.0  \n",
       "3              12.0  \n",
       "4              24.0  "
      ]
     },
     "execution_count": 21,
     "metadata": {},
     "output_type": "execute_result"
    }
   ],
   "source": [
    "projects_tables_data = projects_df[['grade_level', 'poverty_level', 'total_price_excluding_optional_support', 'students_reached']]\n",
    "projects_tables_data.head()"
   ]
  },
  {
   "cell_type": "code",
   "execution_count": 22,
   "metadata": {},
   "outputs": [
    {
     "data": {
      "text/plain": [
       "array(['Grades 6-8', 'Grades PreK-2', 'Grades 3-5', 'Grades 9-12', nan],\n",
       "      dtype=object)"
      ]
     },
     "execution_count": 22,
     "metadata": {},
     "output_type": "execute_result"
    }
   ],
   "source": [
    "projects_tables_data['grade_level'].unique()"
   ]
  },
  {
   "cell_type": "code",
   "execution_count": 23,
   "metadata": {},
   "outputs": [
    {
     "data": {
      "text/html": [
       "<div>\n",
       "<style scoped>\n",
       "    .dataframe tbody tr th:only-of-type {\n",
       "        vertical-align: middle;\n",
       "    }\n",
       "\n",
       "    .dataframe tbody tr th {\n",
       "        vertical-align: top;\n",
       "    }\n",
       "\n",
       "    .dataframe thead th {\n",
       "        text-align: right;\n",
       "    }\n",
       "</style>\n",
       "<table border=\"1\" class=\"dataframe\">\n",
       "  <thead>\n",
       "    <tr style=\"text-align: right;\">\n",
       "      <th></th>\n",
       "      <th>Average Proposed Project Cost</th>\n",
       "      <th>Average Students Reached</th>\n",
       "    </tr>\n",
       "    <tr>\n",
       "      <th>grade_level</th>\n",
       "      <th></th>\n",
       "      <th></th>\n",
       "    </tr>\n",
       "  </thead>\n",
       "  <tbody>\n",
       "    <tr>\n",
       "      <th>Grades 3-5</th>\n",
       "      <td>509.142274</td>\n",
       "      <td>104.548264</td>\n",
       "    </tr>\n",
       "    <tr>\n",
       "      <th>Grades 6-8</th>\n",
       "      <td>576.016792</td>\n",
       "      <td>144.165320</td>\n",
       "    </tr>\n",
       "    <tr>\n",
       "      <th>Grades 9-12</th>\n",
       "      <td>677.009360</td>\n",
       "      <td>147.696577</td>\n",
       "    </tr>\n",
       "    <tr>\n",
       "      <th>Grades PreK-2</th>\n",
       "      <td>499.261080</td>\n",
       "      <td>49.019353</td>\n",
       "    </tr>\n",
       "  </tbody>\n",
       "</table>\n",
       "</div>"
      ],
      "text/plain": [
       "               Average Proposed Project Cost  Average Students Reached\n",
       "grade_level                                                           \n",
       "Grades 3-5                        509.142274                104.548264\n",
       "Grades 6-8                        576.016792                144.165320\n",
       "Grades 9-12                       677.009360                147.696577\n",
       "Grades PreK-2                     499.261080                 49.019353"
      ]
     },
     "execution_count": 23,
     "metadata": {},
     "output_type": "execute_result"
    }
   ],
   "source": [
    "grade_level_table = projects_tables_data.groupby(['grade_level']).mean()\n",
    "grade_level_table = grade_level_table.rename(columns = {'total_price_excluding_optional_support': 'Average Proposed Project Cost', 'students_reached': 'Average Students Reached'})\n",
    "grade_level_table"
   ]
  },
  {
   "cell_type": "code",
   "execution_count": 24,
   "metadata": {},
   "outputs": [
    {
     "data": {
      "text/plain": [
       "array(['highest poverty', 'high poverty', 'moderate poverty',\n",
       "       'low poverty'], dtype=object)"
      ]
     },
     "execution_count": 24,
     "metadata": {},
     "output_type": "execute_result"
    }
   ],
   "source": [
    "projects_df['poverty_level'].unique()"
   ]
  },
  {
   "cell_type": "code",
   "execution_count": 25,
   "metadata": {},
   "outputs": [
    {
     "data": {
      "text/html": [
       "<div>\n",
       "<style scoped>\n",
       "    .dataframe tbody tr th:only-of-type {\n",
       "        vertical-align: middle;\n",
       "    }\n",
       "\n",
       "    .dataframe tbody tr th {\n",
       "        vertical-align: top;\n",
       "    }\n",
       "\n",
       "    .dataframe thead th {\n",
       "        text-align: right;\n",
       "    }\n",
       "</style>\n",
       "<table border=\"1\" class=\"dataframe\">\n",
       "  <thead>\n",
       "    <tr style=\"text-align: right;\">\n",
       "      <th></th>\n",
       "      <th>Average Proposed Project Cost</th>\n",
       "      <th>Average Students Reached</th>\n",
       "    </tr>\n",
       "    <tr>\n",
       "      <th>poverty_level</th>\n",
       "      <th></th>\n",
       "      <th></th>\n",
       "    </tr>\n",
       "  </thead>\n",
       "  <tbody>\n",
       "    <tr>\n",
       "      <th>high poverty</th>\n",
       "      <td>523.483464</td>\n",
       "      <td>96.923655</td>\n",
       "    </tr>\n",
       "    <tr>\n",
       "      <th>highest poverty</th>\n",
       "      <td>548.702691</td>\n",
       "      <td>95.711942</td>\n",
       "    </tr>\n",
       "    <tr>\n",
       "      <th>low poverty</th>\n",
       "      <td>606.545584</td>\n",
       "      <td>97.592531</td>\n",
       "    </tr>\n",
       "    <tr>\n",
       "      <th>moderate poverty</th>\n",
       "      <td>537.486816</td>\n",
       "      <td>104.222564</td>\n",
       "    </tr>\n",
       "  </tbody>\n",
       "</table>\n",
       "</div>"
      ],
      "text/plain": [
       "                  Average Proposed Project Cost  Average Students Reached\n",
       "poverty_level                                                            \n",
       "high poverty                         523.483464                 96.923655\n",
       "highest poverty                      548.702691                 95.711942\n",
       "low poverty                          606.545584                 97.592531\n",
       "moderate poverty                     537.486816                104.222564"
      ]
     },
     "execution_count": 25,
     "metadata": {},
     "output_type": "execute_result"
    }
   ],
   "source": [
    "poverty_level_table = projects_tables_data.groupby(['poverty_level']).mean()\n",
    "poverty_level_table = poverty_level_table.rename(columns = {'total_price_excluding_optional_support': 'Average Proposed Project Cost', 'students_reached': 'Average Students Reached'})\n",
    "poverty_level_table"
   ]
  },
  {
   "cell_type": "markdown",
   "metadata": {},
   "source": [
    "#### From the two tables above we see that average project cost and number of students reached rises with the grade level for the project; low poverty schools have the highest average project cost; and low and moderate poverty schools have the highest average students reached. However, highest poverty schools have higher average project cost than high or moderate poverty schools, signifying that teachers in the poorest schools do have ambition to make a change and produce valuable projects."
   ]
  },
  {
   "cell_type": "markdown",
   "metadata": {},
   "source": [
    "### Resources: display the total costs by resource type"
   ]
  },
  {
   "cell_type": "code",
   "execution_count": 26,
   "metadata": {},
   "outputs": [
    {
     "data": {
      "text/html": [
       "<div>\n",
       "<style scoped>\n",
       "    .dataframe tbody tr th:only-of-type {\n",
       "        vertical-align: middle;\n",
       "    }\n",
       "\n",
       "    .dataframe tbody tr th {\n",
       "        vertical-align: top;\n",
       "    }\n",
       "\n",
       "    .dataframe thead th {\n",
       "        text-align: right;\n",
       "    }\n",
       "</style>\n",
       "<table border=\"1\" class=\"dataframe\">\n",
       "  <thead>\n",
       "    <tr style=\"text-align: right;\">\n",
       "      <th></th>\n",
       "      <th>project_resource_type</th>\n",
       "      <th>item_unit_price</th>\n",
       "      <th>item_quantity</th>\n",
       "    </tr>\n",
       "  </thead>\n",
       "  <tbody>\n",
       "    <tr>\n",
       "      <th>0</th>\n",
       "      <td>Technology</td>\n",
       "      <td>149.00</td>\n",
       "      <td>4.0</td>\n",
       "    </tr>\n",
       "    <tr>\n",
       "      <th>1</th>\n",
       "      <td>Technology</td>\n",
       "      <td>148.00</td>\n",
       "      <td>1.0</td>\n",
       "    </tr>\n",
       "    <tr>\n",
       "      <th>2</th>\n",
       "      <td>Supplies</td>\n",
       "      <td>69.95</td>\n",
       "      <td>1.0</td>\n",
       "    </tr>\n",
       "    <tr>\n",
       "      <th>3</th>\n",
       "      <td>Supplies</td>\n",
       "      <td>34.95</td>\n",
       "      <td>1.0</td>\n",
       "    </tr>\n",
       "    <tr>\n",
       "      <th>4</th>\n",
       "      <td>Supplies</td>\n",
       "      <td>10.95</td>\n",
       "      <td>4.0</td>\n",
       "    </tr>\n",
       "  </tbody>\n",
       "</table>\n",
       "</div>"
      ],
      "text/plain": [
       "  project_resource_type  item_unit_price  item_quantity\n",
       "0            Technology           149.00            4.0\n",
       "1            Technology           148.00            1.0\n",
       "2              Supplies            69.95            1.0\n",
       "3              Supplies            34.95            1.0\n",
       "4              Supplies            10.95            4.0"
      ]
     },
     "execution_count": 26,
     "metadata": {},
     "output_type": "execute_result"
    }
   ],
   "source": [
    "resources_tables_data = resources_df[['project_resource_type', 'item_unit_price', 'item_quantity']]\n",
    "resources_tables_data.head()"
   ]
  },
  {
   "cell_type": "code",
   "execution_count": 27,
   "metadata": {},
   "outputs": [
    {
     "data": {
      "text/plain": [
       "project_resource_type\n",
       "Books         5.000906e+08\n",
       "Other         3.713018e+07\n",
       "Supplies      8.206074e+07\n",
       "Technology    1.285828e+08\n",
       "Trips         4.374427e+04\n",
       "Visitors      1.804842e+04\n",
       "dtype: float64"
      ]
     },
     "execution_count": 27,
     "metadata": {},
     "output_type": "execute_result"
    }
   ],
   "source": [
    "costs_by_resource_type = resources_tables_data.eval(\"item_unit_price * item_quantity\").groupby(resources_tables_data['project_resource_type']).sum()\n",
    "costs_by_resource_type"
   ]
  },
  {
   "cell_type": "markdown",
   "metadata": {},
   "source": [
    "#### So, most of the resource cost falls under the category \"Books\", followed by \"Technology\", and then \"Supplies\". These categories are not very descriptive, however."
   ]
  },
  {
   "cell_type": "markdown",
   "metadata": {},
   "source": [
    "## Data Story"
   ]
  },
  {
   "cell_type": "code",
   "execution_count": 28,
   "metadata": {},
   "outputs": [],
   "source": [
    "#### Can focus on regional donations and then get more detailed. Cities, urban/rural. Idea is that many major cities are located in the Northeast region, and funding may be directed more from cities?"
   ]
  },
  {
   "cell_type": "markdown",
   "metadata": {},
   "source": [
    "## Questions for the Project Partner"
   ]
  },
  {
   "cell_type": "code",
   "execution_count": null,
   "metadata": {},
   "outputs": [],
   "source": []
  },
  {
   "cell_type": "markdown",
   "metadata": {},
   "source": [
    "## Modeling"
   ]
  }
 ],
 "metadata": {
  "kernelspec": {
   "display_name": "Python 3",
   "language": "python",
   "name": "python3"
  },
  "language_info": {
   "codemirror_mode": {
    "name": "ipython",
    "version": 3
   },
   "file_extension": ".py",
   "mimetype": "text/x-python",
   "name": "python",
   "nbconvert_exporter": "python",
   "pygments_lexer": "ipython3",
   "version": "3.7.1"
  }
 },
 "nbformat": 4,
 "nbformat_minor": 2
}
